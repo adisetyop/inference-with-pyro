{
 "cells": [
  {
   "cell_type": "markdown",
   "metadata": {},
   "source": [
    "# Exploring Pyro's Probabilistic Programming for Logistic Regression"
   ]
  },
  {
   "cell_type": "code",
   "execution_count": 1,
   "metadata": {},
   "outputs": [],
   "source": [
    "from __future__ import absolute_import, division, print_function\n",
    "\n",
    "import logging\n",
    "import time\n",
    "import os\n",
    "\n",
    "import matplotlib.pyplot as plt\n",
    "import numpy as np\n",
    "import pandas as pd\n",
    "import seaborn as sns\n",
    "from scipy.stats import bernoulli, lognorm, norm, multivariate_normal\n",
    "from scipy.special import logit, expit\n",
    "\n",
    "import torch\n",
    "import torch.nn as nn\n",
    "from torch.distributions import constraints\n",
    "\n",
    "import pyro\n",
    "import pyro.distributions as dist\n",
    "from pyro.infer import EmpiricalMarginal, SVI, Trace_ELBO\n",
    "from pyro.contrib.autoguide import AutoMultivariateNormal\n",
    "from pyro.infer.mcmc.api import MCMC\n",
    "from pyro.infer.mcmc import NUTS\n",
    "from pyro.optim import Adam\n",
    "\n",
    "pyro.set_rng_seed(1)\n",
    "pyro.enable_validation(True)\n",
    "torch.set_default_dtype(torch.double) # this was necessary on the CPU\n",
    "\n",
    "logDet = lambda x:np.linalg.slogdet(x)[1]\n",
    "plogis = lambda x: (1+ np.tanh(x/2))/2"
   ]
  },
  {
   "cell_type": "code",
   "execution_count": 2,
   "metadata": {},
   "outputs": [],
   "source": [
    "%matplotlib inline\n",
    "logging.basicConfig(format='%(message)s', level=logging.INFO)"
   ]
  },
  {
   "cell_type": "markdown",
   "metadata": {},
   "source": [
    "## Step 1: Generate random data\n",
    "First, we try to simulate the observations based on simulated parameters"
   ]
  },
  {
   "cell_type": "code",
   "execution_count": 3,
   "metadata": {},
   "outputs": [],
   "source": [
    "def generate_data_single_variable_norm(intercept=-1,\n",
    "                                       slope=1,\n",
    "                                       variants=5,\n",
    "                                       sample=10000):\n",
    "    \n",
    "    \n",
    "    x_simulated = np.random.choice(variants,sample)/(variants-1)\n",
    "#     noise = norm.rvs(loc=0,scale=noise_std,size=sample)\n",
    "    y_simulated = bernoulli.rvs(expit(intercept + slope*x_simulated))\n",
    "    \n",
    "    return pd.DataFrame(np.stack((x_simulated,y_simulated),axis=-1),\n",
    "                        columns=[\"variants\",\"success\"])\n",
    "\n",
    "def generate_data_two_variable_norm(mu,sigma,sample):\n",
    "    return df_simulated\n",
    "\n",
    "def summary(samples):\n",
    "    site_stats = {}\n",
    "    for site_name, values in samples.items():\n",
    "        marginal_site = pd.DataFrame(values.squeeze())\n",
    "        describe = marginal_site.describe(percentiles=[.05, 0.25, 0.5, 0.75, 0.95]).transpose()\n",
    "        site_stats[site_name] = describe[[\"mean\", \"std\", \"5%\", \"25%\", \"50%\", \"75%\", \"95%\"]]\n",
    "    return site_stats"
   ]
  },
  {
   "cell_type": "code",
   "execution_count": 4,
   "metadata": {},
   "outputs": [
    {
     "data": {
      "text/html": [
       "<div>\n",
       "<style scoped>\n",
       "    .dataframe tbody tr th:only-of-type {\n",
       "        vertical-align: middle;\n",
       "    }\n",
       "\n",
       "    .dataframe tbody tr th {\n",
       "        vertical-align: top;\n",
       "    }\n",
       "\n",
       "    .dataframe thead th {\n",
       "        text-align: right;\n",
       "    }\n",
       "</style>\n",
       "<table border=\"1\" class=\"dataframe\">\n",
       "  <thead>\n",
       "    <tr style=\"text-align: right;\">\n",
       "      <th></th>\n",
       "      <th>variants</th>\n",
       "      <th>success</th>\n",
       "    </tr>\n",
       "  </thead>\n",
       "  <tbody>\n",
       "    <tr>\n",
       "      <td>0</td>\n",
       "      <td>0.75</td>\n",
       "      <td>0.0</td>\n",
       "    </tr>\n",
       "    <tr>\n",
       "      <td>1</td>\n",
       "      <td>1.00</td>\n",
       "      <td>0.0</td>\n",
       "    </tr>\n",
       "    <tr>\n",
       "      <td>2</td>\n",
       "      <td>0.00</td>\n",
       "      <td>0.0</td>\n",
       "    </tr>\n",
       "    <tr>\n",
       "      <td>3</td>\n",
       "      <td>0.25</td>\n",
       "      <td>0.0</td>\n",
       "    </tr>\n",
       "    <tr>\n",
       "      <td>4</td>\n",
       "      <td>0.75</td>\n",
       "      <td>0.0</td>\n",
       "    </tr>\n",
       "    <tr>\n",
       "      <td>...</td>\n",
       "      <td>...</td>\n",
       "      <td>...</td>\n",
       "    </tr>\n",
       "    <tr>\n",
       "      <td>9995</td>\n",
       "      <td>0.00</td>\n",
       "      <td>0.0</td>\n",
       "    </tr>\n",
       "    <tr>\n",
       "      <td>9996</td>\n",
       "      <td>0.25</td>\n",
       "      <td>0.0</td>\n",
       "    </tr>\n",
       "    <tr>\n",
       "      <td>9997</td>\n",
       "      <td>0.00</td>\n",
       "      <td>0.0</td>\n",
       "    </tr>\n",
       "    <tr>\n",
       "      <td>9998</td>\n",
       "      <td>0.50</td>\n",
       "      <td>0.0</td>\n",
       "    </tr>\n",
       "    <tr>\n",
       "      <td>9999</td>\n",
       "      <td>1.00</td>\n",
       "      <td>0.0</td>\n",
       "    </tr>\n",
       "  </tbody>\n",
       "</table>\n",
       "<p>10000 rows × 2 columns</p>\n",
       "</div>"
      ],
      "text/plain": [
       "      variants  success\n",
       "0         0.75      0.0\n",
       "1         1.00      0.0\n",
       "2         0.00      0.0\n",
       "3         0.25      0.0\n",
       "4         0.75      0.0\n",
       "...        ...      ...\n",
       "9995      0.00      0.0\n",
       "9996      0.25      0.0\n",
       "9997      0.00      0.0\n",
       "9998      0.50      0.0\n",
       "9999      1.00      0.0\n",
       "\n",
       "[10000 rows x 2 columns]"
      ]
     },
     "execution_count": 4,
     "metadata": {},
     "output_type": "execute_result"
    }
   ],
   "source": [
    "pd_sample = generate_data_single_variable_norm(intercept = -3,slope=0.1,sample=10000)\n",
    "\n",
    "pd_sample"
   ]
  },
  {
   "cell_type": "code",
   "execution_count": 5,
   "metadata": {},
   "outputs": [
    {
     "data": {
      "text/html": [
       "<div>\n",
       "<style scoped>\n",
       "    .dataframe tbody tr th:only-of-type {\n",
       "        vertical-align: middle;\n",
       "    }\n",
       "\n",
       "    .dataframe tbody tr th {\n",
       "        vertical-align: top;\n",
       "    }\n",
       "\n",
       "    .dataframe thead th {\n",
       "        text-align: right;\n",
       "    }\n",
       "</style>\n",
       "<table border=\"1\" class=\"dataframe\">\n",
       "  <thead>\n",
       "    <tr style=\"text-align: right;\">\n",
       "      <th></th>\n",
       "      <th>success</th>\n",
       "      <th>trials</th>\n",
       "      <th>success_rate</th>\n",
       "    </tr>\n",
       "    <tr>\n",
       "      <th>variants</th>\n",
       "      <th></th>\n",
       "      <th></th>\n",
       "      <th></th>\n",
       "    </tr>\n",
       "  </thead>\n",
       "  <tbody>\n",
       "    <tr>\n",
       "      <td>0.00</td>\n",
       "      <td>92.0</td>\n",
       "      <td>2024.0</td>\n",
       "      <td>0.045455</td>\n",
       "    </tr>\n",
       "    <tr>\n",
       "      <td>0.25</td>\n",
       "      <td>88.0</td>\n",
       "      <td>1933.0</td>\n",
       "      <td>0.045525</td>\n",
       "    </tr>\n",
       "    <tr>\n",
       "      <td>0.50</td>\n",
       "      <td>90.0</td>\n",
       "      <td>2028.0</td>\n",
       "      <td>0.044379</td>\n",
       "    </tr>\n",
       "    <tr>\n",
       "      <td>0.75</td>\n",
       "      <td>105.0</td>\n",
       "      <td>2013.0</td>\n",
       "      <td>0.052161</td>\n",
       "    </tr>\n",
       "    <tr>\n",
       "      <td>1.00</td>\n",
       "      <td>89.0</td>\n",
       "      <td>2002.0</td>\n",
       "      <td>0.044456</td>\n",
       "    </tr>\n",
       "  </tbody>\n",
       "</table>\n",
       "</div>"
      ],
      "text/plain": [
       "          success  trials  success_rate\n",
       "variants                               \n",
       "0.00         92.0  2024.0      0.045455\n",
       "0.25         88.0  1933.0      0.045525\n",
       "0.50         90.0  2028.0      0.044379\n",
       "0.75        105.0  2013.0      0.052161\n",
       "1.00         89.0  2002.0      0.044456"
      ]
     },
     "execution_count": 5,
     "metadata": {},
     "output_type": "execute_result"
    }
   ],
   "source": [
    "pd_summary = pd_sample.groupby(\"variants\").agg(success = (\"success\",np.sum),trials=(\"success\",np.size))\n",
    "pd_summary[\"success_rate\"] = pd_summary[\"success\"]/pd_summary[\"trials\"]\n",
    "pd_summary"
   ]
  },
  {
   "cell_type": "markdown",
   "metadata": {},
   "source": [
    "## Step 2: Define Model"
   ]
  },
  {
   "cell_type": "code",
   "execution_count": 6,
   "metadata": {},
   "outputs": [],
   "source": [
    "class LogRegressionModel(nn.Module):\n",
    "    def __init__(self, p):\n",
    "        super(LogRegressionModel, self).__init__()\n",
    "        \n",
    "        self.p = p\n",
    "\n",
    "        # hyperparameters for normal priors\n",
    "        self.alpha_h_loc = torch.zeros(1, p)\n",
    "        self.alpha_h_scale = 10.0 * torch.ones(1, p)\n",
    "        self.beta_h_loc = torch.zeros(1)\n",
    "        self.beta_h_scale = 10.0 * torch.ones(1)\n",
    "        \n",
    "        # initial values of variational parameters\n",
    "        self.alpha_0 = np.zeros((1, p))\n",
    "        self.alpha_0_scale = np.ones((1, p))\n",
    "        self.beta_0 = np.zeros((1,))\n",
    "        self.beta_0_scale = np.ones((1,))\n",
    "\n",
    "    def model(self, x, y):\n",
    "        # sample from prior\n",
    "        a = pyro.sample(\n",
    "            \"weight\", dist.Normal(self.alpha_h_loc, self.alpha_h_scale, validate_args=True).independent(1)\n",
    "        )\n",
    "        b = pyro.sample(\n",
    "            \"bias\", dist.Normal(self.beta_h_loc, self.beta_h_scale, validate_args=True).independent(1)\n",
    "        )\n",
    "\n",
    "        with pyro.iarange(\"data\", x.size(0)):\n",
    "            model_logits = (torch.matmul(x, a.permute(1, 0)) + b).squeeze()\n",
    "            \n",
    "            pyro.sample(\n",
    "                \"obs\", \n",
    "                dist.Bernoulli(logits=model_logits, validate_args=True),\n",
    "                obs=y.squeeze()\n",
    "            )\n",
    "            \n",
    "    def guide(self, x, y):\n",
    "        # register variational parameters with pyro\n",
    "        alpha_loc = pyro.param(\"alpha_loc\", torch.tensor(self.alpha_0))\n",
    "        alpha_scale = pyro.param(\"alpha_scale\", torch.tensor(self.alpha_0_scale),\n",
    "                                 constraint=constraints.positive)\n",
    "        beta_loc = pyro.param(\"beta_loc\", torch.tensor(self.beta_0))\n",
    "        beta_scale = pyro.param(\"beta_scale\", torch.tensor(self.beta_0_scale),\n",
    "                                constraint=constraints.positive)\n",
    "\n",
    "        pyro.sample(\n",
    "            \"weight\", dist.Normal(alpha_loc, alpha_scale, validate_args=True).independent(1)\n",
    "        )\n",
    "        pyro.sample(\n",
    "            \"bias\", dist.Normal(beta_loc, beta_scale, validate_args=True).independent(1)\n",
    "        )"
   ]
  },
  {
   "cell_type": "markdown",
   "metadata": {},
   "source": [
    "### Porting CAVI routine from R\n"
   ]
  },
  {
   "cell_type": "code",
   "execution_count": 7,
   "metadata": {},
   "outputs": [],
   "source": [
    "def logRegressionCAVI(design_mat,obs_mat,prior=None,tol=1e-16, maxiter=5000):\n",
    "    num_data, design_vars = design_mat.shape\n",
    "    \n",
    "    if prior is None:\n",
    "        prior = {\"mu\": np.zeros(design_vars),\n",
    "                \"sigma\": 10*np.eye(design_vars)} \n",
    "        \n",
    "    inv_sigma = np.linalg.inv(prior[\"sigma\"])\n",
    "    mu = prior[\"mu\"]\n",
    "    inv_sigma_mu = np.matmul(inv_sigma,mu).squeeze()\n",
    "    inv_sigma_logdet=logDet(inv_sigma)\n",
    "    omega = 0.25*np.ones((num_data,design_vars)) # initial guess of omega\n",
    "    \n",
    "    lower_bound = []\n",
    "\n",
    "    for i in range(maxiter):\n",
    "        inv_sigma_vb = np.matmul(np.multiply(omega,design_mat).T,design_mat) + inv_sigma\n",
    "        sigma_vb = np.linalg.inv(inv_sigma_vb)\n",
    "        mu_vb = np.matmul(sigma_vb,(np.matmul(design_mat.T,obs_mat - 0.5) + inv_sigma_mu))\n",
    "        eta = np.matmul(design_mat,mu_vb)\n",
    "        xi = np.sqrt(np.power(eta,2)+np.sum(np.multiply(np.matmul(design_mat,sigma_vb),design_mat),axis=1))\n",
    "        omega = np.tile(np.divide(np.tanh(xi/2),2*xi),(design_vars,1)).T\n",
    "\n",
    "\n",
    "        lower_bound += [(0.5*design_vars + 0.5*logDet(sigma_vb) + 0.5*inv_sigma_logdet - \n",
    "                      0.5*np.matmul(np.matmul((mu_vb-mu).T,inv_sigma),(mu_vb-mu)) + \n",
    "                      np.sum(np.multiply(obs_mat - 0.5,eta) + np.log(plogis(xi)) - 0.5*xi) - \n",
    "                      0.5*np.sum(np.diag(np.matmul(inv_sigma,sigma_vb))))]\n",
    "\n",
    "        if i > 0:\n",
    "            if abs(lower_bound[i] - lower_bound[i-1]) < tol:\n",
    "                return {\"mu\": mu_vb,\n",
    "                          \"sigma\": sigma_vb,\n",
    "                          \"convergence\": {\"iteration\": np.arange(i),\"lower_bound\":np.array(lower_bound)},\n",
    "                          \"xi\": xi}\n",
    "\n",
    "            \n",
    "    print(\"Algorithm fails to reach convergence at maximum iteration\")\n",
    "    return None"
   ]
  },
  {
   "cell_type": "code",
   "execution_count": 8,
   "metadata": {},
   "outputs": [
    {
     "name": "stdout",
     "output_type": "stream",
     "text": [
      "--- 0.08897089958190918 seconds ---\n"
     ]
    }
   ],
   "source": [
    "# pd_sample[\"variants\"].values\n",
    "# np.ones(pd_sample[\"variants\"].values.shape[0])\n",
    "maxiter = 5000\n",
    "tol =1e-10\n",
    "sites = [\"bias\",\"weight\"]\n",
    "obs_mat = pd_sample[\"success\"].values\n",
    "design_mat = np.column_stack((np.ones(pd_sample[\"variants\"].values.shape),\n",
    "                                 pd_sample[\"variants\"].values))\n",
    "\n",
    "# np.matmul(0.25*design_matrix.T,design_matrix)\n",
    "\n",
    "\n",
    "# num_data, design_vars = design_mat.shape\n",
    "# prior = {\"mu\": np.zeros(2),\"sigma\": 10*np.eye(2)}\n",
    "# inv_sigma = np.linalg.inv(prior[\"sigma\"])\n",
    "# mu = prior[\"mu\"]\n",
    "\n",
    "# inv_sigma_mu = np.matmul(inv_sigma,mu).squeeze()\n",
    "# inv_sigma_logdet=logDet(inv_sigma)\n",
    "# omega = 0.25*np.ones((num_data,design_vars))\n",
    "# lower_bound = []\n",
    "\n",
    "\n",
    "# for i in range(maxiter):\n",
    "#     inv_sigma_vb = np.matmul(np.multiply(omega,design_mat).T,design_mat) + inv_sigma\n",
    "#     sigma_vb = np.linalg.inv(inv_sigma_vb)\n",
    "#     mu_vb = np.matmul(sigma_vb,(np.matmul(design_mat.T,obs_mat - 0.5) + inv_sigma_mu))\n",
    "#     eta = np.matmul(design_mat,mu_vb)\n",
    "#     xi = np.sqrt(np.power(eta,2)+np.sum(np.multiply(np.matmul(design_mat,sigma_vb),design_mat),axis=1))\n",
    "#     omega = np.divide(np.tanh(xi/2),2*xi)\n",
    "\n",
    "#     lower_bound += [(0.5*design_vars + 0.5*logDet(sigma_vb) + 0.5*inv_sigma_logdet - \n",
    "#                   0.5*np.matmul(np.matmul((mu_vb-mu).T,inv_sigma),(mu_vb-mu)) + \n",
    "#                   np.sum(np.multiply(obs_mat - 0.5,eta) + np.log(plogis(xi)) - 0.5*xi) - \n",
    "#                   0.5*np.sum(np.diag(np.matmul(inv_sigma,sigma_vb))))]\n",
    "\n",
    "#     if i > 0:\n",
    "#         if abs(lower_bound[i] - lower_bound[i-1]) < tol:\n",
    "#             return {\"mu\": mu_vb,\n",
    "#                       \"sigma\": sigma_vb,\n",
    "#                       \"convergence\": {\"iteration\": np.arange(i),\"lower_bound\":np.array(lower_bound)},\n",
    "#                       \"xi\": xi}\n",
    "     \n",
    "# print(\"Algorithm fails to reach convergence at maximum iteration\")\n",
    "# return None\n",
    "\n",
    "start_time = time.time()\n",
    "cavi = logRegressionCAVI(design_mat,obs_mat)\n",
    "print(\"--- %s seconds ---\" % (time.time() - start_time))"
   ]
  },
  {
   "cell_type": "code",
   "execution_count": 29,
   "metadata": {},
   "outputs": [
    {
     "name": "stdout",
     "output_type": "stream",
     "text": [
      "Site: bias\n",
      "       mean       std        5%       25%       50%       75%       95%\n",
      "0 -3.044155  0.043794 -3.115067 -3.073678 -3.043528 -3.014674 -2.974292 \n",
      "\n",
      "Site: weight\n",
      "       mean      std        5%       25%       50%       75%       95%\n",
      "0  0.041561  0.07237 -0.075784 -0.008428  0.041048  0.091723  0.158751 \n",
      "\n"
     ]
    }
   ],
   "source": [
    "\n",
    "draws = np.random.multivariate_normal(mean=cavi[\"mu\"],cov=cavi[\"sigma\"],size=2000)\n",
    "cavi_samples = {sites[i]: draws[:,i] for i in range(len(sites))}\n",
    "\n",
    "for site, values in summary(cavi_samples).items():\n",
    "    print(\"Site: {}\".format(site))\n",
    "    print(values, \"\\n\")"
   ]
  },
  {
   "cell_type": "code",
   "execution_count": 30,
   "metadata": {},
   "outputs": [
    {
     "name": "stdout",
     "output_type": "stream",
     "text": [
      "0.716\n"
     ]
    }
   ],
   "source": [
    "print(sum(cavi_samples[\"weight\"] > 0)/len(cavi_samples[\"weight\"]))"
   ]
  },
  {
   "cell_type": "code",
   "execution_count": null,
   "metadata": {},
   "outputs": [],
   "source": []
  },
  {
   "cell_type": "code",
   "execution_count": 26,
   "metadata": {},
   "outputs": [
    {
     "name": "stdout",
     "output_type": "stream",
     "text": [
      "--- 4.614118814468384 seconds ---\n"
     ]
    }
   ],
   "source": [
    "optim = Adam({\"lr\": 0.05})\n",
    "\n",
    "log_reg_single = LogRegressionModel(p=1)\n",
    "\n",
    "svi = SVI(log_reg_single.model,log_reg_single.guide,optim,loss = Trace_ELBO(), num_samples=1000)\n",
    "\n",
    "y = pd_sample[\"success\"].values\n",
    "X = pd_sample[\"variants\"].values\n",
    "\n",
    "lr_dataset = torch.tensor(pd_sample.values)\n",
    "\n",
    "prev_elbo = 0\n",
    "pyro.clear_param_store()\n",
    "\n",
    "start_time = time.time()\n",
    "num_iters = 2000\n",
    "for i in range(num_iters):\n",
    "    elbo = svi.step(lr_dataset[:,:-1],lr_dataset[:,-1])\n",
    "#     elbo_diff = abs(prev_elbo - elbo)\n",
    "#     prev_elbo = elbo\n",
    "#     if i % 10 == 0:\n",
    "#         print(\"Elbo loss: {}, convergence: {}\".format(elbo,elbo_diff))\n",
    "print(\"--- %s seconds ---\" % (time.time() - start_time))"
   ]
  },
  {
   "cell_type": "code",
   "execution_count": 27,
   "metadata": {},
   "outputs": [
    {
     "name": "stdout",
     "output_type": "stream",
     "text": [
      "Site: bias\n",
      "       mean       std        5%       25%       50%       75%       95%\n",
      "0 -3.037145  0.075751 -3.163044 -3.088406 -3.034161 -2.986645 -2.914699 \n",
      "\n",
      "Site: weight\n",
      "       mean       std       5%       25%       50%       75%       95%\n",
      "0  0.039225  0.110291 -0.13846 -0.034694  0.039765  0.114941  0.222275 \n",
      "\n"
     ]
    }
   ],
   "source": [
    "svi_diagnorm_posterior = svi.run(lr_dataset[:,:-1],lr_dataset[:,-1])\n",
    "\n",
    "svi_samples = {site: EmpiricalMarginal(svi_diagnorm_posterior, sites=site)\n",
    "                     .enumerate_support().detach().cpu().numpy()\n",
    "               for site in sites}\n",
    "\n",
    "for site, values in summary(svi_samples).items():\n",
    "    print(\"Site: {}\".format(site))\n",
    "    print(values, \"\\n\")"
   ]
  },
  {
   "cell_type": "code",
   "execution_count": 28,
   "metadata": {},
   "outputs": [
    {
     "name": "stdout",
     "output_type": "stream",
     "text": [
      "0.641\n"
     ]
    }
   ],
   "source": [
    "print(sum(svi_samples[\"weight\"].squeeze() > 0)/len(svi_samples[\"weight\"].squeeze()))"
   ]
  },
  {
   "cell_type": "code",
   "execution_count": 13,
   "metadata": {},
   "outputs": [
    {
     "name": "stderr",
     "output_type": "stream",
     "text": [
      "sample: 100%|██████████| 1200/1200 [00:09<00:00, 125.53it/s, step size=5.22e-01, acc. prob=0.923]\n"
     ]
    }
   ],
   "source": [
    "pyro.clear_param_store()\n",
    "nuts_kernel = NUTS(log_reg_single.model)\n",
    "\n",
    "mcmc = MCMC(nuts_kernel, num_samples=1000, warmup_steps=200)\n",
    "mcmc.run(lr_dataset[:,:-1],lr_dataset[:,-1])\n",
    "\n",
    "hmc_samples = {k: v.detach().cpu().numpy() for k, v in mcmc.get_samples().items()}"
   ]
  },
  {
   "cell_type": "code",
   "execution_count": 14,
   "metadata": {},
   "outputs": [
    {
     "name": "stdout",
     "output_type": "stream",
     "text": [
      "Site: weight\n",
      "       mean       std        5%       25%      50%       75%       95%\n",
      "0  0.049014  0.135857 -0.156989 -0.053842  0.04011  0.136805  0.279136 \n",
      "\n",
      "Site: bias\n",
      "       mean       std       5%       25%       50%       75%       95%\n",
      "0 -3.049369  0.087275 -3.19885 -3.108568 -3.043485 -2.985442 -2.920595 \n",
      "\n"
     ]
    }
   ],
   "source": [
    "for site, values in summary(hmc_samples).items():\n",
    "    print(\"Site: {}\".format(site))\n",
    "    print(values, \"\\n\")"
   ]
  },
  {
   "cell_type": "code",
   "execution_count": 31,
   "metadata": {},
   "outputs": [
    {
     "name": "stdout",
     "output_type": "stream",
     "text": [
      "0.622\n"
     ]
    }
   ],
   "source": [
    "print(sum(hmc_samples[\"weight\"].squeeze() > 0)/len(hmc_samples[\"weight\"].squeeze()))"
   ]
  },
  {
   "cell_type": "code",
   "execution_count": 15,
   "metadata": {},
   "outputs": [
    {
     "data": {
      "image/png": "[encoded data removed]",
      "text/plain": [
       "<Figure size 1152x720 with 2 Axes>"
      ]
     },
     "metadata": {
      "needs_background": "light"
     },
     "output_type": "display_data"
    }
   ],
   "source": [
    "fig, axs = plt.subplots(nrows=1, ncols=2, figsize=(16, 10))\n",
    "fig.suptitle(\"Marginal Posterior density - Regression Coefficients\", fontsize=16)\n",
    "for i, ax in enumerate(axs.reshape(-1)):\n",
    "    site = sites[i]\n",
    "    sns.distplot(svi_samples[site], ax=ax, label=\"SVI (DiagNormal)\")\n",
    "    sns.distplot(cavi_samples[site], ax=ax, label=\"CAVI (DiagNormal)\")\n",
    "    sns.distplot(hmc_samples[site], ax=ax, label=\"HMC\")\n",
    "    ax.set_title(site)\n",
    "handles, labels = ax.get_legend_handles_labels()\n",
    "fig.legend(handles, labels, loc='upper right');"
   ]
  },
  {
   "cell_type": "code",
   "execution_count": null,
   "metadata": {},
   "outputs": [],
   "source": []
  },
  {
   "cell_type": "code",
   "execution_count": null,
   "metadata": {},
   "outputs": [],
   "source": [
    "# from pyro.contrib.autoguide.initialization import init_to_mean\n",
    "mvn_guide = AutoMultivariateNormal(log_reg_single.model)\n",
    "\n",
    "svi_mvn = SVI(log_reg_single.model,mvn_guide,optim,loss = Trace_ELBO(), num_samples=1000)\n",
    "\n",
    "lr_dataset = torch.tensor(pd_sample.values)\n",
    "\n",
    "prev_elbo = 0\n",
    "pyro.clear_param_store()\n",
    "num_iters = 10000\n",
    "for i in range(num_iters):\n",
    "    elbo = svi_mvn.step(lr_dataset[:,:-1],lr_dataset[:,-1])\n",
    "#     elbo_diff = abs(prev_elbo - elbo)\n",
    "#     prev_elbo = elbo\n",
    "#     if i % 50 == 0:\n",
    "#         print(\"Elbo loss: {}, convergence: {}\".format(elbo,elbo_diff))"
   ]
  },
  {
   "cell_type": "code",
   "execution_count": null,
   "metadata": {},
   "outputs": [],
   "source": [
    "svi_mvn_posterior = svi_mvn.run(lr_dataset[:,:-1],lr_dataset[:,-1])\n",
    "svi_mvn_samples = {site: EmpiricalMarginal(svi_mvn_posterior, sites=site)\n",
    "                     .enumerate_support().detach().cpu().numpy()\n",
    "               for site in sites}"
   ]
  },
  {
   "cell_type": "code",
   "execution_count": null,
   "metadata": {},
   "outputs": [],
   "source": [
    "fig, axs = plt.subplots(nrows=1, ncols=2, figsize=(16, 10))\n",
    "fig.suptitle(\"Marginal Posterior density - Regression Coefficients\", fontsize=16)\n",
    "for i, ax in enumerate(axs.reshape(-1)):\n",
    "    site = sites[i]\n",
    "    sns.distplot(svi_mvn_samples[site], ax=ax, label=\"SVI (MVN)\")\n",
    "    sns.distplot(hmc_samples[site], ax=ax, label=\"HMC\")\n",
    "    ax.set_title(site)\n",
    "handles, labels = ax.get_legend_handles_labels()\n",
    "fig.legend(handles, labels, loc='upper right');"
   ]
  },
  {
   "cell_type": "code",
   "execution_count": null,
   "metadata": {},
   "outputs": [],
   "source": []
  }
 ],
 "metadata": {
  "kernelspec": {
   "display_name": "Python 3",
   "language": "python",
   "name": "python3"
  },
  "language_info": {
   "codemirror_mode": {
    "name": "ipython",
    "version": 3
   },
   "file_extension": ".py",
   "mimetype": "text/x-python",
   "name": "python",
   "nbconvert_exporter": "python",
   "pygments_lexer": "ipython3",
   "version": "3.7.3"
  }
 },
 "nbformat": 4,
 "nbformat_minor": 4
}
